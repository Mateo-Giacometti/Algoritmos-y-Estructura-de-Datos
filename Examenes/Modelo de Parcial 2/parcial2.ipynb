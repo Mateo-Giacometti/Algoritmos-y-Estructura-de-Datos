{
 "cells": [
  {
   "attachments": {},
   "cell_type": "markdown",
   "metadata": {},
   "source": [
    "# Modelo de parcial 2\n",
    "\n",
    "#### 4) Dado un grafo no-dirigido queremos programar la funcion path_exists(a,b, max_dist) que indique si existe un camino entre a y b de distancia max_dist o menor. Programar la función y analizar el orden de la misma. Tiene que ser lo más eficiente posible."
   ]
  },
  {
   "cell_type": "code",
   "execution_count": 3,
   "metadata": {},
   "outputs": [],
   "source": [
    "from collections import deque"
   ]
  },
  {
   "cell_type": "code",
   "execution_count": 4,
   "metadata": {},
   "outputs": [],
   "source": [
    "def path_exist(graph, a, b, max_dist):\n",
    "    distance = 0\n",
    "    stack = deque()\n",
    "    visited = set()\n",
    "    stack.append((a, distance))\n",
    "    while stack:\n",
    "        distance += 1\n",
    "        current_vertex, current_distance = stack.pop()\n",
    "        if current_distance == max_dist: return False\n",
    "        visited.add(current_vertex)\n",
    "        neighbors = graph[current_vertex]\n",
    "        for neighbor in neighbors:\n",
    "            if neighbor == b and distance <= max_dist: return True\n",
    "            else:\n",
    "                if neighbor not in visited:\n",
    "                    visited.add(neighbor)\n",
    "                    stack.append((neighbor, distance))\n",
    "    return False               \n",
    "            "
   ]
  },
  {
   "cell_type": "code",
   "execution_count": 5,
   "metadata": {},
   "outputs": [
    {
     "data": {
      "text/plain": [
       "True"
      ]
     },
     "execution_count": 5,
     "metadata": {},
     "output_type": "execute_result"
    }
   ],
   "source": [
    "graph = {\n",
    "    'A': ['B', 'C'],\n",
    "    'B': ['A', 'D', 'E'],\n",
    "    'C': ['A', 'F'],\n",
    "    'D': ['B'],\n",
    "    'E': ['B', 'F'],\n",
    "    'F': ['C', 'E']\n",
    "}\n",
    "\n",
    "path_exist(graph, 'B', 'F', 3)"
   ]
  },
  {
   "attachments": {},
   "cell_type": "markdown",
   "metadata": {},
   "source": [
    "#### 5) Un robot puede recibir instrucciones para moverse hacia adelante 1,2 o 3 metros. Queremos que programe una función que calcule dada una distancia,de cuántas formas posibles puede el robot alcanzarla. Por ejemplo si la distancia es 3 hay 4 formas posibles: 1,1,1 / 1,2 / 2,1 / 3"
   ]
  },
  {
   "attachments": {},
   "cell_type": "markdown",
   "metadata": {
    "notebookRunGroups": {
     "groupValue": "1"
    }
   },
   "source": [
    "Primera forma - Iterativo"
   ]
  },
  {
   "cell_type": "code",
   "execution_count": 6,
   "metadata": {},
   "outputs": [],
   "source": [
    "def robot_ways(distance):\n",
    "    if distance < 0: return 0 \n",
    "    if distance == 0 or distance == 1: return 1\n",
    "    ways = [0] * (distance + 1)\n",
    "    ways[0] = 1\n",
    "    for i in range(1, distance + 1):\n",
    "        for j in range(1, 4):\n",
    "            if i >= j:\n",
    "                ways[i] += ways[i - j]\n",
    "    return ways[distance]\n"
   ]
  },
  {
   "cell_type": "code",
   "execution_count": 7,
   "metadata": {},
   "outputs": [
    {
     "data": {
      "text/plain": [
       "7"
      ]
     },
     "execution_count": 7,
     "metadata": {},
     "output_type": "execute_result"
    }
   ],
   "source": [
    "robot_ways(4)"
   ]
  },
  {
   "attachments": {},
   "cell_type": "markdown",
   "metadata": {},
   "source": [
    "Segunda forma - Recursivo"
   ]
  },
  {
   "cell_type": "code",
   "execution_count": 8,
   "metadata": {},
   "outputs": [],
   "source": [
    "def robot_rec(distance: int) -> int:\n",
    "    if distance < 0: return 0\n",
    "    if distance == 0: return 1\n",
    "    return robot_rec(distance - 1) + robot_rec(distance - 2) + robot_rec(distance - 3)"
   ]
  },
  {
   "cell_type": "code",
   "execution_count": 9,
   "metadata": {},
   "outputs": [
    {
     "data": {
      "text/plain": [
       "7"
      ]
     },
     "execution_count": 9,
     "metadata": {},
     "output_type": "execute_result"
    }
   ],
   "source": [
    "robot_rec(4)"
   ]
  },
  {
   "attachments": {},
   "cell_type": "markdown",
   "metadata": {},
   "source": [
    "Tercera forma - Memorization"
   ]
  },
  {
   "cell_type": "code",
   "execution_count": 10,
   "metadata": {},
   "outputs": [],
   "source": [
    "def robot_memo(distance: int, memo: dict = dict()) -> int:\n",
    "    if distance < 0: return 0\n",
    "    if distance == 0: return 1\n",
    "    if distance in memo: return memo[distance]\n",
    "    memo[distance] = robot_memo(distance - 1) + robot_memo(distance - 2) + robot_memo(distance - 3)\n",
    "    return memo[distance]   "
   ]
  },
  {
   "cell_type": "code",
   "execution_count": 11,
   "metadata": {},
   "outputs": [
    {
     "data": {
      "text/plain": [
       "7"
      ]
     },
     "execution_count": 11,
     "metadata": {},
     "output_type": "execute_result"
    }
   ],
   "source": [
    "robot_memo(4)"
   ]
  }
 ],
 "metadata": {
  "kernelspec": {
   "display_name": "Python 3",
   "language": "python",
   "name": "python3"
  },
  "language_info": {
   "codemirror_mode": {
    "name": "ipython",
    "version": 3
   },
   "file_extension": ".py",
   "mimetype": "text/x-python",
   "name": "python",
   "nbconvert_exporter": "python",
   "pygments_lexer": "ipython3",
   "version": "3.10.6"
  },
  "orig_nbformat": 4
 },
 "nbformat": 4,
 "nbformat_minor": 2
}
