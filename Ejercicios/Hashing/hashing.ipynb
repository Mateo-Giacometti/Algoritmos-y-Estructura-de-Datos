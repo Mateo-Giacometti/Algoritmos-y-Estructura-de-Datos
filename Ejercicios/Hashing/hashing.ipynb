{
 "cells": [
  {
   "attachments": {},
   "cell_type": "markdown",
   "metadata": {},
   "source": [
    "# Hashing\n",
    "\n",
    "### Ejercicio 10.1 - Diseñe un algoritmo que dado un arreglo arbitrario encuentre si hay y cuales son dos números que sumen un cierto K dado. La solución debe ser O(n) aún en el peor caso."
   ]
  },
  {
   "cell_type": "code",
   "execution_count": 2,
   "metadata": {},
   "outputs": [],
   "source": [
    "def find_two_numbers(arr: list, k: int) -> list:\n",
    "    num_map = {}\n",
    "    combinations = []\n",
    "    for num in arr:\n",
    "        if num in num_map:\n",
    "            combinations.append((num, num_map[num]))\n",
    "        else:\n",
    "            num_map[k - num] = num\n",
    "    return combinations\n",
    "            "
   ]
  },
  {
   "cell_type": "code",
   "execution_count": 3,
   "metadata": {},
   "outputs": [
    {
     "name": "stdout",
     "output_type": "stream",
     "text": [
      "[(60, 21), (80, 1)]\n"
     ]
    }
   ],
   "source": [
    "arr = [1, 21, 3, 14, 5, 60, 7, 6, 80]\n",
    "k = 81\n",
    "print(find_two_numbers(arr, k))"
   ]
  },
  {
   "attachments": {},
   "cell_type": "markdown",
   "metadata": {},
   "source": [
    "### Ejercicio 10.2 - Diseñe un algoritmo que determine si dos strings son isomorfas. Dos strings son isomorfas si existe un mapeo de caracteres que permita llevar de una a la otra. Por ejemplo: \"abca\" y \"agha\" son isomorfas pero \"abca\" y \"aghh\" no."
   ]
  },
  {
   "attachments": {},
   "cell_type": "markdown",
   "metadata": {},
   "source": [
    "Implementación 1 (sin hashing)"
   ]
  },
  {
   "cell_type": "code",
   "execution_count": 4,
   "metadata": {},
   "outputs": [],
   "source": [
    "def isomorfos(string1: str, string2: str) -> bool:\n",
    "    if len(string1) != len(string2): return False\n",
    "    car1 = 0\n",
    "    car2 = 0\n",
    "    for i in range(1,len(string1)):\n",
    "        if(car1 != car2): return False\n",
    "        if(string1[i-1] != string1[i]): car1 += 1\n",
    "        if(string2[i-1] != string2[i]): car2 += 1\n",
    "    return True"
   ]
  },
  {
   "cell_type": "code",
   "execution_count": 5,
   "metadata": {},
   "outputs": [
    {
     "data": {
      "text/plain": [
       "True"
      ]
     },
     "execution_count": 5,
     "metadata": {},
     "output_type": "execute_result"
    }
   ],
   "source": [
    "isomorfos(\"add\", \"egg\")"
   ]
  },
  {
   "cell_type": "code",
   "execution_count": 6,
   "metadata": {},
   "outputs": [
    {
     "data": {
      "text/plain": [
       "False"
      ]
     },
     "execution_count": 6,
     "metadata": {},
     "output_type": "execute_result"
    }
   ],
   "source": [
    "isomorfos(\"add\", \"gge\")"
   ]
  },
  {
   "attachments": {},
   "cell_type": "markdown",
   "metadata": {},
   "source": [
    "Implemetación 2 (con hashing)"
   ]
  },
  {
   "cell_type": "code",
   "execution_count": 8,
   "metadata": {},
   "outputs": [],
   "source": [
    "def isomorfos_hash(string1: str, string2: str) -> bool:\n",
    "    if len(string1) != len(string2): return False\n",
    "    maping = {}\n",
    "    visited = set()\n",
    "    for i in range(len(string1)):\n",
    "        if string1[i] not in maping and string2[i] not in visited: \n",
    "            maping[string1[i]] = string2[i]\n",
    "            visited.add(string2[i])\n",
    "        if string1[i] not in maping and string2[i] in visited: return False\n",
    "        if maping[string1[i]] != string2[i]: return False\n",
    "    return True"
   ]
  },
  {
   "cell_type": "code",
   "execution_count": 9,
   "metadata": {},
   "outputs": [
    {
     "data": {
      "text/plain": [
       "True"
      ]
     },
     "execution_count": 9,
     "metadata": {},
     "output_type": "execute_result"
    }
   ],
   "source": [
    "isomorfos_hash(\"add\", \"egg\")"
   ]
  },
  {
   "cell_type": "code",
   "execution_count": 10,
   "metadata": {},
   "outputs": [
    {
     "data": {
      "text/plain": [
       "False"
      ]
     },
     "execution_count": 10,
     "metadata": {},
     "output_type": "execute_result"
    }
   ],
   "source": [
    "isomorfos_hash(\"add\", \"gge\")"
   ]
  },
  {
   "attachments": {},
   "cell_type": "markdown",
   "metadata": {},
   "source": [
    "### Ejercicio 10.3 - Dado un arreglo arbitrario programe un algoritmo que encuentre un subarreglo contiguo que sume 0."
   ]
  },
  {
   "cell_type": "code",
   "execution_count": 40,
   "metadata": {},
   "outputs": [],
   "source": [
    "def sum_0(arr: list) -> list:\n",
    "    acu_sum = {}\n",
    "    suma = 0\n",
    "    for i in range(0,len(arr)):\n",
    "        suma += arr[i]\n",
    "        if suma in acu_sum:\n",
    "            return arr[acu_sum[suma] + 1 : i+1]\n",
    "        acu_sum[suma] = i\n",
    "    return []"
   ]
  },
  {
   "cell_type": "code",
   "execution_count": 44,
   "metadata": {},
   "outputs": [
    {
     "data": {
      "text/plain": [
       "[2, -1, 3, -4]"
      ]
     },
     "execution_count": 44,
     "metadata": {},
     "output_type": "execute_result"
    }
   ],
   "source": [
    "arr = [-1,1,1,2,-1,3,-4,3,2,-1,1,2,-3]\n",
    "sum_0(arr)"
   ]
  }
 ],
 "metadata": {
  "kernelspec": {
   "display_name": "Python 3",
   "language": "python",
   "name": "python3"
  },
  "language_info": {
   "codemirror_mode": {
    "name": "ipython",
    "version": 3
   },
   "file_extension": ".py",
   "mimetype": "text/x-python",
   "name": "python",
   "nbconvert_exporter": "python",
   "pygments_lexer": "ipython3",
   "version": "3.10.6"
  },
  "orig_nbformat": 4
 },
 "nbformat": 4,
 "nbformat_minor": 2
}
