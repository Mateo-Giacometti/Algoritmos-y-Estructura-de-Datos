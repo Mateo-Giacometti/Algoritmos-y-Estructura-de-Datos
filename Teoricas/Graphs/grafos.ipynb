{
 "cells": [
  {
   "attachments": {},
   "cell_type": "markdown",
   "metadata": {},
   "source": [
    "# Grafos"
   ]
  },
  {
   "cell_type": "code",
   "execution_count": 108,
   "metadata": {},
   "outputs": [],
   "source": [
    "import networkx as nx\n",
    "import heapq\n",
    "import matplotlib.pyplot as plt\n",
    "from collections import deque"
   ]
  },
  {
   "attachments": {},
   "cell_type": "markdown",
   "metadata": {},
   "source": [
    "#### Definimos un grafo no dirigido y sin pesos para utilizar en nuestra implementación."
   ]
  },
  {
   "cell_type": "code",
   "execution_count": 109,
   "metadata": {},
   "outputs": [],
   "source": [
    "graph = {\n",
    "    'A': ['B', 'C'],\n",
    "    'B': ['A', 'D', 'E'],\n",
    "    'C': ['A', 'F'],\n",
    "    'D': ['B'],\n",
    "    'E': ['B', 'F'],\n",
    "    'F': ['C', 'E']\n",
    "}"
   ]
  },
  {
   "attachments": {},
   "cell_type": "markdown",
   "metadata": {},
   "source": [
    "### Formas de recorrer grafos."
   ]
  },
  {
   "attachments": {},
   "cell_type": "markdown",
   "metadata": {},
   "source": [
    "#### Implementación de DFS (Depth First Serch)."
   ]
  },
  {
   "cell_type": "code",
   "execution_count": 110,
   "metadata": {},
   "outputs": [],
   "source": [
    "def dfs(graph: dict, start: str) -> list:\n",
    "    visited = []\n",
    "    stack = deque()\n",
    "    stack.append(start)\n",
    "    visited.append(start)\n",
    "    while stack:\n",
    "        current_vert = stack.pop()\n",
    "        for vert in graph[current_vert]:\n",
    "            if vert not in visited:\n",
    "                visited.append(vert)\n",
    "                stack.append(vert)\n",
    "    return visited"
   ]
  },
  {
   "attachments": {},
   "cell_type": "markdown",
   "metadata": {},
   "source": [
    "Pruebas."
   ]
  },
  {
   "cell_type": "code",
   "execution_count": 111,
   "metadata": {},
   "outputs": [
    {
     "data": {
      "text/plain": [
       "['A', 'B', 'C', 'F', 'E', 'D']"
      ]
     },
     "execution_count": 111,
     "metadata": {},
     "output_type": "execute_result"
    }
   ],
   "source": [
    "dfs(graph, 'A')"
   ]
  },
  {
   "cell_type": "code",
   "execution_count": 112,
   "metadata": {},
   "outputs": [
    {
     "data": {
      "text/plain": [
       "['C', 'A', 'F', 'E', 'B', 'D']"
      ]
     },
     "execution_count": 112,
     "metadata": {},
     "output_type": "execute_result"
    }
   ],
   "source": [
    "dfs(graph, 'C')"
   ]
  },
  {
   "attachments": {},
   "cell_type": "markdown",
   "metadata": {},
   "source": [
    "#### Implementación de BFS (Breath First Search)."
   ]
  },
  {
   "cell_type": "code",
   "execution_count": 113,
   "metadata": {},
   "outputs": [],
   "source": [
    "def bfs(graph: dict, start: str) -> list:\n",
    "    visited = []\n",
    "    queue = deque()\n",
    "    visited.append(start)\n",
    "    queue.append(start)\n",
    "    while queue:\n",
    "        current_vert = queue.popleft()\n",
    "        for vert in graph[current_vert]:\n",
    "            if vert not in visited:\n",
    "                visited.append(vert)\n",
    "                queue.append(vert)\n",
    "    return visited"
   ]
  },
  {
   "attachments": {},
   "cell_type": "markdown",
   "metadata": {},
   "source": [
    "Pruebas"
   ]
  },
  {
   "cell_type": "code",
   "execution_count": 114,
   "metadata": {},
   "outputs": [
    {
     "data": {
      "text/plain": [
       "['A', 'B', 'C', 'D', 'E', 'F']"
      ]
     },
     "execution_count": 114,
     "metadata": {},
     "output_type": "execute_result"
    }
   ],
   "source": [
    "bfs(graph, 'A')"
   ]
  },
  {
   "cell_type": "code",
   "execution_count": 115,
   "metadata": {},
   "outputs": [
    {
     "data": {
      "text/plain": [
       "['C', 'A', 'F', 'B', 'E', 'D']"
      ]
     },
     "execution_count": 115,
     "metadata": {},
     "output_type": "execute_result"
    }
   ],
   "source": [
    "bfs(graph, 'C')"
   ]
  },
  {
   "attachments": {},
   "cell_type": "markdown",
   "metadata": {},
   "source": [
    "### Calcular caminos mínimos."
   ]
  },
  {
   "attachments": {},
   "cell_type": "markdown",
   "metadata": {},
   "source": [
    "#### Implementación de DFS para encontrar caminos mínimos (solo distancia)."
   ]
  },
  {
   "cell_type": "code",
   "execution_count": 116,
   "metadata": {},
   "outputs": [],
   "source": [
    "def dfs_cam_min_dist(graph: dict, start: str, end: str) -> int:\n",
    "    visited = set()\n",
    "    stack = deque()\n",
    "    visited.add(start)\n",
    "    stack.append((start, 0))\n",
    "    while stack:\n",
    "        current_vert, current_dist = stack.pop()\n",
    "        if current_vert == end: return current_dist\n",
    "        for vert in graph[current_vert]:\n",
    "            if vert not in visited:\n",
    "                visited.add(vert)\n",
    "                stack.append((vert, current_dist + 1))\n",
    "    return -1"
   ]
  },
  {
   "attachments": {},
   "cell_type": "markdown",
   "metadata": {},
   "source": [
    "Pruebas."
   ]
  },
  {
   "cell_type": "code",
   "execution_count": 117,
   "metadata": {},
   "outputs": [
    {
     "data": {
      "text/plain": [
       "2"
      ]
     },
     "execution_count": 117,
     "metadata": {},
     "output_type": "execute_result"
    }
   ],
   "source": [
    "dfs_cam_min_dist(graph, 'A', 'F')"
   ]
  },
  {
   "cell_type": "code",
   "execution_count": 118,
   "metadata": {},
   "outputs": [
    {
     "data": {
      "text/plain": [
       "1"
      ]
     },
     "execution_count": 118,
     "metadata": {},
     "output_type": "execute_result"
    }
   ],
   "source": [
    "dfs_cam_min_dist(graph, 'A', 'C')"
   ]
  },
  {
   "attachments": {},
   "cell_type": "markdown",
   "metadata": {},
   "source": [
    "#### Implementación de DFS para encontrar caminos mínimos."
   ]
  },
  {
   "cell_type": "code",
   "execution_count": 140,
   "metadata": {},
   "outputs": [],
   "source": [
    "def dfs_cam_min(graph: dict, start: str, end: str):\n",
    "    visited = set()\n",
    "    stack = deque()\n",
    "    visited.add(start)\n",
    "    stack.append((start, [], 0))\n",
    "    while stack:\n",
    "        current_vert, current_path , current_dist = stack.pop()\n",
    "        if current_vert == end:\n",
    "            return current_dist, current_path + [end] \n",
    "        for vert in graph[current_vert]:\n",
    "            if vert not in visited:\n",
    "                visited.add(vert)\n",
    "                stack.append((vert, current_path + [current_vert], current_dist + 1))\n",
    "    return -1, []\n",
    "    "
   ]
  },
  {
   "attachments": {},
   "cell_type": "markdown",
   "metadata": {},
   "source": [
    "Pruebas."
   ]
  },
  {
   "cell_type": "code",
   "execution_count": 141,
   "metadata": {},
   "outputs": [
    {
     "data": {
      "text/plain": [
       "(2, ['A', 'C', 'F'])"
      ]
     },
     "execution_count": 141,
     "metadata": {},
     "output_type": "execute_result"
    }
   ],
   "source": [
    "dfs_cam_min(graph, 'A', 'F')"
   ]
  },
  {
   "cell_type": "code",
   "execution_count": 142,
   "metadata": {},
   "outputs": [
    {
     "data": {
      "text/plain": [
       "(1, ['A', 'C'])"
      ]
     },
     "execution_count": 142,
     "metadata": {},
     "output_type": "execute_result"
    }
   ],
   "source": [
    "dfs_cam_min(graph, 'A', 'C')"
   ]
  },
  {
   "attachments": {},
   "cell_type": "markdown",
   "metadata": {},
   "source": [
    "#### Implementación de BFS para encontrar caminos mínimos (solo distancia)."
   ]
  },
  {
   "cell_type": "code",
   "execution_count": 119,
   "metadata": {},
   "outputs": [],
   "source": [
    "def bfs_cam_min_dist(graph: dict, start: str, end: str) -> int:\n",
    "    visited = set()\n",
    "    queue = deque()\n",
    "    visited.add(start)\n",
    "    queue.append((start, 0))\n",
    "    while queue:\n",
    "        current_vert, current_dist = queue.popleft()\n",
    "        if current_vert == end: return current_dist\n",
    "        for vert in graph[current_vert]:\n",
    "            if vert not in visited:\n",
    "                visited.add(vert)\n",
    "                queue.append((vert, current_dist + 1))\n",
    "    return -1"
   ]
  },
  {
   "attachments": {},
   "cell_type": "markdown",
   "metadata": {},
   "source": [
    "Pruebas."
   ]
  },
  {
   "cell_type": "code",
   "execution_count": 120,
   "metadata": {},
   "outputs": [
    {
     "data": {
      "text/plain": [
       "2"
      ]
     },
     "execution_count": 120,
     "metadata": {},
     "output_type": "execute_result"
    }
   ],
   "source": [
    "bfs_cam_min_dist(graph, 'A', 'F')"
   ]
  },
  {
   "cell_type": "code",
   "execution_count": 121,
   "metadata": {},
   "outputs": [
    {
     "data": {
      "text/plain": [
       "1"
      ]
     },
     "execution_count": 121,
     "metadata": {},
     "output_type": "execute_result"
    }
   ],
   "source": [
    "bfs_cam_min_dist(graph, 'A', 'C')"
   ]
  },
  {
   "attachments": {},
   "cell_type": "markdown",
   "metadata": {},
   "source": [
    "#### Implementación de BFS para encontrar caminos mínimos."
   ]
  },
  {
   "cell_type": "code",
   "execution_count": 122,
   "metadata": {},
   "outputs": [],
   "source": [
    "def bfs_cam_min(graph: dict, start: str, end: str) -> tuple:\n",
    "    visited = set()\n",
    "    queue = deque()\n",
    "    visited.add(start)\n",
    "    queue.append((start, [], 0))\n",
    "    while queue:\n",
    "        current_vert, current_path , current_dist = queue.popleft()\n",
    "        if current_vert == end:\n",
    "            return current_dist, current_path + [end] \n",
    "        for vert in graph[current_vert]:\n",
    "            if vert not in visited:\n",
    "                visited.add(vert)\n",
    "                queue.append((vert, current_path + [current_vert], current_dist + 1))\n",
    "    return -1, []\n"
   ]
  },
  {
   "attachments": {},
   "cell_type": "markdown",
   "metadata": {},
   "source": [
    "Pruebas."
   ]
  },
  {
   "cell_type": "code",
   "execution_count": 125,
   "metadata": {},
   "outputs": [
    {
     "data": {
      "text/plain": [
       "(2, ['A', 'C', 'F'])"
      ]
     },
     "execution_count": 125,
     "metadata": {},
     "output_type": "execute_result"
    }
   ],
   "source": [
    "bfs_cam_min(graph, 'A', 'F')"
   ]
  },
  {
   "cell_type": "code",
   "execution_count": 126,
   "metadata": {},
   "outputs": [
    {
     "data": {
      "text/plain": [
       "(1, ['A', 'C'])"
      ]
     },
     "execution_count": 126,
     "metadata": {},
     "output_type": "execute_result"
    }
   ],
   "source": [
    "bfs_cam_min(graph, 'A', 'C')"
   ]
  },
  {
   "attachments": {},
   "cell_type": "markdown",
   "metadata": {},
   "source": [
    "#### Implementación de BFS Bidireccional para encontrar caminos mínimos (generalmente utilizado para grafos con ciclos)."
   ]
  },
  {
   "cell_type": "code",
   "execution_count": 127,
   "metadata": {},
   "outputs": [],
   "source": [
    "def bfs_bidirectional(graph: dict, start: str, end: str) -> tuple:\n",
    "    visited1 = set()\n",
    "    visited2 = set()\n",
    "    queue1 = deque()\n",
    "    queue2 = deque()\n",
    "    visited1.add(start)\n",
    "    visited2.add(end)\n",
    "    queue1.append((start, [start]))\n",
    "    queue2.append((end, [end]))\n",
    "    paths1 = {start: [start]}\n",
    "    paths2 = {end: [end]}\n",
    "    while queue1 and queue2:\n",
    "        vert1, path1 = queue1.popleft()\n",
    "        vert2, path2 = queue2.popleft()\n",
    "        if vert2 in paths1:\n",
    "            return paths1[vert2] + path2[::-1][1:], len(paths1[vert2] + path2) - 2\n",
    "        if vert1 in paths2:\n",
    "            return path1 + paths2[vert1][::-1][1:], len(path1 + paths2[vert1]) - 2\n",
    "        for v in graph[vert1]:\n",
    "            if v not in visited1:\n",
    "                visited1.add(v)\n",
    "                queue1.append((v, path1 + [v]))\n",
    "                paths1[v] = path1 + [v]\n",
    "        for v in graph[vert2]:\n",
    "            if v not in visited2:\n",
    "                visited2.add(v)\n",
    "                queue2.append((v, path2 + [v]))\n",
    "                paths2[v] = path2 + [v]\n",
    "    return [], -1\n"
   ]
  },
  {
   "attachments": {},
   "cell_type": "markdown",
   "metadata": {},
   "source": [
    "Pruebas."
   ]
  },
  {
   "cell_type": "code",
   "execution_count": 128,
   "metadata": {},
   "outputs": [
    {
     "data": {
      "text/plain": [
       "(['A', 'C', 'F'], 2)"
      ]
     },
     "execution_count": 128,
     "metadata": {},
     "output_type": "execute_result"
    }
   ],
   "source": [
    "bfs_bidirectional(graph, 'A', 'F')"
   ]
  },
  {
   "cell_type": "code",
   "execution_count": 129,
   "metadata": {},
   "outputs": [
    {
     "data": {
      "text/plain": [
       "(['A', 'C'], 1)"
      ]
     },
     "execution_count": 129,
     "metadata": {},
     "output_type": "execute_result"
    }
   ],
   "source": [
    "bfs_bidirectional(graph, 'A', 'C')"
   ]
  },
  {
   "attachments": {},
   "cell_type": "markdown",
   "metadata": {},
   "source": [
    "#### Implementación de BFS Bidireccional para encontrar caminos mínimos (solo distancia)"
   ]
  },
  {
   "cell_type": "code",
   "execution_count": 130,
   "metadata": {},
   "outputs": [],
   "source": [
    "def bidirectional_bfs(graph: dict, start: str, end: str) -> int:\n",
    "    visited1 = {}\n",
    "    visited2 = {}\n",
    "    queue1 = deque()\n",
    "    queue2 = deque()\n",
    "    visited1[start] = 0\n",
    "    visited2[end] = 0\n",
    "    queue1.append((start, 0))\n",
    "    queue2.append((end, 0))\n",
    "    while queue1 and queue2:\n",
    "        vert1, depth1 = queue1.popleft()\n",
    "        vert2, depth2 = queue2.popleft()\n",
    "        for v in graph[vert1]:\n",
    "            if v not in visited1:\n",
    "                visited1[v] = depth1 + 1\n",
    "                queue1.append((v, depth1 + 1))\n",
    "            if v in visited2:\n",
    "                return visited1[v] + visited2[v]\n",
    "        for v in graph[vert2]:\n",
    "            if v not in visited2:\n",
    "                visited2[v] = depth2 + 1\n",
    "                queue2.append((v, depth2 + 1))\n",
    "            if v in visited1:\n",
    "                return visited1[v] + visited2[v]\n",
    "    return -1"
   ]
  },
  {
   "attachments": {},
   "cell_type": "markdown",
   "metadata": {},
   "source": [
    "Pruebas."
   ]
  },
  {
   "cell_type": "code",
   "execution_count": 131,
   "metadata": {},
   "outputs": [
    {
     "data": {
      "text/plain": [
       "1"
      ]
     },
     "execution_count": 131,
     "metadata": {},
     "output_type": "execute_result"
    }
   ],
   "source": [
    "bidirectional_bfs(graph, 'A', 'B')"
   ]
  },
  {
   "cell_type": "code",
   "execution_count": 132,
   "metadata": {},
   "outputs": [
    {
     "data": {
      "text/plain": [
       "2"
      ]
     },
     "execution_count": 132,
     "metadata": {},
     "output_type": "execute_result"
    }
   ],
   "source": [
    "bidirectional_bfs(graph, 'A', 'F')"
   ]
  },
  {
   "attachments": {},
   "cell_type": "markdown",
   "metadata": {},
   "source": [
    "#### Definimos un grafo dirigido y con pesos para utilizar en nuestra implementación."
   ]
  },
  {
   "cell_type": "code",
   "execution_count": 133,
   "metadata": {},
   "outputs": [],
   "source": [
    "heavy_graph = {\n",
    "              \"A\": {\"B\": 5, \"C\": 2},\n",
    "              \"B\": {\"D\": 4},\n",
    "              \"C\": {\"B\": 1, \"D\": 8},\n",
    "              \"D\": {\"A\": 3}\n",
    "              }"
   ]
  },
  {
   "attachments": {},
   "cell_type": "markdown",
   "metadata": {},
   "source": [
    "#### Implementación de Dijkstra para encontrar caminos mínimos."
   ]
  },
  {
   "cell_type": "code",
   "execution_count": 145,
   "metadata": {},
   "outputs": [],
   "source": [
    "def dijkstra(graph: dict, start: str) -> tuple:\n",
    "    visited = set()\n",
    "    distances = {node: float('inf') for node in graph}  \n",
    "    prev = {node: float('inf') for node in graph}\n",
    "    distances[start] = 0  \n",
    "    heap = []\n",
    "    for node in graph:\n",
    "        heapq.heappush(heap, (node, distances[node]))\n",
    "    while heap:\n",
    "        current_node, current_distance = heapq.heappop(heap)  \n",
    "        visited.add(current_node)\n",
    "        for neighbor, weight in graph[current_node].items():\n",
    "            if neighbor not in visited: \n",
    "                distance = current_distance + weight\n",
    "            if distance < distances[neighbor]:  \n",
    "                distances[neighbor] = distance\n",
    "                prev[neighbor] = current_node\n",
    "                heapq.heappush(heap, (neighbor, distance))\n",
    "    return distances, prev\n"
   ]
  },
  {
   "cell_type": "code",
   "execution_count": 146,
   "metadata": {},
   "outputs": [
    {
     "data": {
      "text/plain": [
       "({'A': 0, 'B': 5, 'C': 2, 'D': 9}, {'A': inf, 'B': 'A', 'C': 'A', 'D': 'B'})"
      ]
     },
     "execution_count": 146,
     "metadata": {},
     "output_type": "execute_result"
    }
   ],
   "source": [
    "dijkstra(heavy_graph, \"A\")"
   ]
  }
 ],
 "metadata": {
  "kernelspec": {
   "display_name": "Python 3",
   "language": "python",
   "name": "python3"
  },
  "language_info": {
   "codemirror_mode": {
    "name": "ipython",
    "version": 3
   },
   "file_extension": ".py",
   "mimetype": "text/x-python",
   "name": "python",
   "nbconvert_exporter": "python",
   "pygments_lexer": "ipython3",
   "version": "3.10.6"
  },
  "orig_nbformat": 4
 },
 "nbformat": 4,
 "nbformat_minor": 2
}
